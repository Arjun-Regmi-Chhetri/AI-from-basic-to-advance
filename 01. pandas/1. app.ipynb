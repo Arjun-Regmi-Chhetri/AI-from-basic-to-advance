{
 "cells": [
  {
   "cell_type": "markdown",
   "metadata": {},
   "source": [
    "# csv"
   ]
  },
  {
   "cell_type": "code",
   "execution_count": 2,
   "metadata": {},
   "outputs": [
    {
     "name": "stdout",
     "output_type": "stream",
     "text": [
      "Title,Author,Genre,Pages,Publication Year\n",
      "1984,George Orwell,Dystopian Fiction,328,1949\n",
      "To Kill a Mockingbird,Harper Lee,Fiction,281,1960\n",
      "The Great Gatsby,F. Scott Fitzgerald,Classic,218,1925\n",
      "Pride and Prejudice,Jane Austen,Romance,279,1813\n",
      "The Catcher in the Rye,J.D. Salinger,Coming-of-age,277,1951\n",
      "The Hobbit,J.R.R. Tolkien,Fantasy,310,1937\n",
      "Harry Potter and the Philosopher's Stone,J.K. Rowling,Fantasy,223,1997\n",
      "The Lord of the Rings,J.R.R. Tolkien,Fantasy,1178,1954\n",
      "Jane Eyre,Charlotte BrontÃ«,Gothic Fiction,366,1847\n",
      "Animal Farm,George Orwell,Political Satire,112,1945\n",
      "Brave New World,Aldous Huxley,Science Fiction,311,1932\n",
      "The Chronicles of Narnia,C.S. Lewis,Fantasy,767,1950\n",
      "To the Lighthouse,Virginia Woolf,Modernist Fiction,209,1927\n",
      "Crime and Punishment,Fyodor Dostoevsky,Philosophical Fiction,551,1866\n",
      "The Picture of Dorian Gray,Oscar Wilde,Gothic Fiction,254,1890\n",
      "Moby-Dick,Herman Melville,Adventure,585,1851\n",
      "The Grapes of Wrath,John Steinbeck,Historical Fiction,464,1939\n",
      "War and Peace,Leo Tolstoy,Historical Fiction,1225,1869\n",
      "The Bell Jar,Sylvia Plath,Semi-autobiographical Fiction,244,1963\n",
      "The Road,Cormac McCarthy,Post-apocalyptic Fiction,287,2006\n",
      "The Hitchhiker's Guide to the Galaxy,Douglas Adams,Science Fiction,215,1979\n",
      "\n"
     ]
    }
   ],
   "source": [
    "with open(\"book.csv\", \"r\") as csvfile:\n",
    "    read = csvfile.read()\n",
    "\n",
    "    print(read)"
   ]
  },
  {
   "cell_type": "code",
   "execution_count": 3,
   "metadata": {},
   "outputs": [],
   "source": [
    "import csv"
   ]
  },
  {
   "cell_type": "code",
   "execution_count": 5,
   "metadata": {},
   "outputs": [
    {
     "name": "stdout",
     "output_type": "stream",
     "text": [
      "['Title', 'Author', 'Genre', 'Pages', 'Publication Year']\n",
      "['1984', 'George Orwell', 'Dystopian Fiction', '328', '1949']\n",
      "['To Kill a Mockingbird', 'Harper Lee', 'Fiction', '281', '1960']\n",
      "['The Great Gatsby', 'F. Scott Fitzgerald', 'Classic', '218', '1925']\n",
      "['Pride and Prejudice', 'Jane Austen', 'Romance', '279', '1813']\n",
      "['The Catcher in the Rye', 'J.D. Salinger', 'Coming-of-age', '277', '1951']\n",
      "['The Hobbit', 'J.R.R. Tolkien', 'Fantasy', '310', '1937']\n",
      "[\"Harry Potter and the Philosopher's Stone\", 'J.K. Rowling', 'Fantasy', '223', '1997']\n",
      "['The Lord of the Rings', 'J.R.R. Tolkien', 'Fantasy', '1178', '1954']\n",
      "['Jane Eyre', 'Charlotte BrontÃ«', 'Gothic Fiction', '366', '1847']\n",
      "['Animal Farm', 'George Orwell', 'Political Satire', '112', '1945']\n",
      "['Brave New World', 'Aldous Huxley', 'Science Fiction', '311', '1932']\n",
      "['The Chronicles of Narnia', 'C.S. Lewis', 'Fantasy', '767', '1950']\n",
      "['To the Lighthouse', 'Virginia Woolf', 'Modernist Fiction', '209', '1927']\n",
      "['Crime and Punishment', 'Fyodor Dostoevsky', 'Philosophical Fiction', '551', '1866']\n",
      "['The Picture of Dorian Gray', 'Oscar Wilde', 'Gothic Fiction', '254', '1890']\n",
      "['Moby-Dick', 'Herman Melville', 'Adventure', '585', '1851']\n",
      "['The Grapes of Wrath', 'John Steinbeck', 'Historical Fiction', '464', '1939']\n",
      "['War and Peace', 'Leo Tolstoy', 'Historical Fiction', '1225', '1869']\n",
      "['The Bell Jar', 'Sylvia Plath', 'Semi-autobiographical Fiction', '244', '1963']\n",
      "['The Road', 'Cormac McCarthy', 'Post-apocalyptic Fiction', '287', '2006']\n",
      "[\"The Hitchhiker's Guide to the Galaxy\", 'Douglas Adams', 'Science Fiction', '215', '1979']\n"
     ]
    }
   ],
   "source": [
    "with open(\"book.csv\", \"r\") as csvfile:\n",
    "    read = csv.reader(csvfile)\n",
    "\n",
    "    for item in read:\n",
    "        print(item)"
   ]
  },
  {
   "cell_type": "code",
   "execution_count": 19,
   "metadata": {},
   "outputs": [],
   "source": [
    "header = [\"Name\", \"Address\", \"Age\"]\n",
    "fields=[\"Arjun\", \"Nepal\", 24]\n",
    "with open(\"new_file.csv\", \"w\", newline=\"\") as csvfile:\n",
    "    write = csv.writer(csvfile)\n",
    "    write.writerow(header)\n",
    "    write.writerow(fields)"
   ]
  },
  {
   "cell_type": "code",
   "execution_count": 21,
   "metadata": {},
   "outputs": [],
   "source": [
    "with open(\"new_file.csv\", \"r\") as file:\n",
    "    read = csv.reader(file)\n",
    "    data = list(read)"
   ]
  },
  {
   "cell_type": "code",
   "execution_count": 29,
   "metadata": {},
   "outputs": [
    {
     "ename": "ModuleNotFoundError",
     "evalue": "No module named 'tabulate'",
     "output_type": "error",
     "traceback": [
      "\u001b[1;31m---------------------------------------------------------------------------\u001b[0m",
      "\u001b[1;31mModuleNotFoundError\u001b[0m                       Traceback (most recent call last)",
      "Cell \u001b[1;32mIn[29], line 1\u001b[0m\n\u001b[1;32m----> 1\u001b[0m \u001b[38;5;28;01mfrom\u001b[39;00m \u001b[38;5;21;01mtabulate\u001b[39;00m \u001b[38;5;28;01mimport\u001b[39;00m tabulate\n\u001b[0;32m      4\u001b[0m \u001b[38;5;66;03m# Output data in tabular form\u001b[39;00m\n\u001b[0;32m      5\u001b[0m table \u001b[38;5;241m=\u001b[39m tabulate(data[\u001b[38;5;241m1\u001b[39m:], headers\u001b[38;5;241m=\u001b[39mdata[\u001b[38;5;241m0\u001b[39m], tablefmt\u001b[38;5;241m=\u001b[39m\u001b[38;5;124m\"\u001b[39m\u001b[38;5;124mgrid\u001b[39m\u001b[38;5;124m\"\u001b[39m)\n",
      "\u001b[1;31mModuleNotFoundError\u001b[0m: No module named 'tabulate'"
     ]
    }
   ],
   "source": [
    "from tabulate import tabulate\n",
    "\n",
    "\n",
    "# Output data in tabular form\n",
    "table = tabulate(data[1:], headers=data[0], tablefmt=\"grid\")\n",
    "\n",
    "print(table)\n"
   ]
  },
  {
   "cell_type": "code",
   "execution_count": 30,
   "metadata": {},
   "outputs": [
    {
     "name": "stdout",
     "output_type": "stream",
     "text": [
      "Defaulting to user installation because normal site-packages is not writeable\n",
      "Collecting tabulate\n",
      "  Downloading tabulate-0.9.0-py3-none-any.whl.metadata (34 kB)\n",
      "Downloading tabulate-0.9.0-py3-none-any.whl (35 kB)\n",
      "Installing collected packages: tabulate\n",
      "Successfully installed tabulate-0.9.0\n"
     ]
    }
   ],
   "source": [
    "!pip install tabulate"
   ]
  },
  {
   "cell_type": "code",
   "execution_count": 31,
   "metadata": {},
   "outputs": [
    {
     "name": "stdout",
     "output_type": "stream",
     "text": [
      "+--------+-----------+-------+\n",
      "| Name   | Address   |   Age |\n",
      "+========+===========+=======+\n",
      "| Arjun  | Nepal     |    24 |\n",
      "+--------+-----------+-------+\n"
     ]
    }
   ],
   "source": [
    "from tabulate import tabulate\n",
    "\n",
    "\n",
    "# Output data in tabular form\n",
    "table = tabulate(data[1:], headers=data[0], tablefmt=\"grid\")\n",
    "\n",
    "print(table)\n"
   ]
  },
  {
   "cell_type": "code",
   "execution_count": 32,
   "metadata": {},
   "outputs": [],
   "source": [
    "from tabulate import tabulate as table"
   ]
  },
  {
   "cell_type": "code",
   "execution_count": 34,
   "metadata": {},
   "outputs": [
    {
     "name": "stdout",
     "output_type": "stream",
     "text": [
      "+------------------------------------------+---------------------+-------------------------------+---------+--------------------+\n",
      "| Title                                    | Author              | Genre                         |   Pages |   Publication Year |\n",
      "+==========================================+=====================+===============================+=========+====================+\n",
      "| 1984                                     | George Orwell       | Dystopian Fiction             |     328 |               1949 |\n",
      "+------------------------------------------+---------------------+-------------------------------+---------+--------------------+\n",
      "| To Kill a Mockingbird                    | Harper Lee          | Fiction                       |     281 |               1960 |\n",
      "+------------------------------------------+---------------------+-------------------------------+---------+--------------------+\n",
      "| The Great Gatsby                         | F. Scott Fitzgerald | Classic                       |     218 |               1925 |\n",
      "+------------------------------------------+---------------------+-------------------------------+---------+--------------------+\n",
      "| Pride and Prejudice                      | Jane Austen         | Romance                       |     279 |               1813 |\n",
      "+------------------------------------------+---------------------+-------------------------------+---------+--------------------+\n",
      "| The Catcher in the Rye                   | J.D. Salinger       | Coming-of-age                 |     277 |               1951 |\n",
      "+------------------------------------------+---------------------+-------------------------------+---------+--------------------+\n",
      "| The Hobbit                               | J.R.R. Tolkien      | Fantasy                       |     310 |               1937 |\n",
      "+------------------------------------------+---------------------+-------------------------------+---------+--------------------+\n",
      "| Harry Potter and the Philosopher's Stone | J.K. Rowling        | Fantasy                       |     223 |               1997 |\n",
      "+------------------------------------------+---------------------+-------------------------------+---------+--------------------+\n",
      "| The Lord of the Rings                    | J.R.R. Tolkien      | Fantasy                       |    1178 |               1954 |\n",
      "+------------------------------------------+---------------------+-------------------------------+---------+--------------------+\n",
      "| Jane Eyre                                | Charlotte BrontÃ«   | Gothic Fiction                |     366 |               1847 |\n",
      "+------------------------------------------+---------------------+-------------------------------+---------+--------------------+\n",
      "| Animal Farm                              | George Orwell       | Political Satire              |     112 |               1945 |\n",
      "+------------------------------------------+---------------------+-------------------------------+---------+--------------------+\n",
      "| Brave New World                          | Aldous Huxley       | Science Fiction               |     311 |               1932 |\n",
      "+------------------------------------------+---------------------+-------------------------------+---------+--------------------+\n",
      "| The Chronicles of Narnia                 | C.S. Lewis          | Fantasy                       |     767 |               1950 |\n",
      "+------------------------------------------+---------------------+-------------------------------+---------+--------------------+\n",
      "| To the Lighthouse                        | Virginia Woolf      | Modernist Fiction             |     209 |               1927 |\n",
      "+------------------------------------------+---------------------+-------------------------------+---------+--------------------+\n",
      "| Crime and Punishment                     | Fyodor Dostoevsky   | Philosophical Fiction         |     551 |               1866 |\n",
      "+------------------------------------------+---------------------+-------------------------------+---------+--------------------+\n",
      "| The Picture of Dorian Gray               | Oscar Wilde         | Gothic Fiction                |     254 |               1890 |\n",
      "+------------------------------------------+---------------------+-------------------------------+---------+--------------------+\n",
      "| Moby-Dick                                | Herman Melville     | Adventure                     |     585 |               1851 |\n",
      "+------------------------------------------+---------------------+-------------------------------+---------+--------------------+\n",
      "| The Grapes of Wrath                      | John Steinbeck      | Historical Fiction            |     464 |               1939 |\n",
      "+------------------------------------------+---------------------+-------------------------------+---------+--------------------+\n",
      "| War and Peace                            | Leo Tolstoy         | Historical Fiction            |    1225 |               1869 |\n",
      "+------------------------------------------+---------------------+-------------------------------+---------+--------------------+\n",
      "| The Bell Jar                             | Sylvia Plath        | Semi-autobiographical Fiction |     244 |               1963 |\n",
      "+------------------------------------------+---------------------+-------------------------------+---------+--------------------+\n",
      "| The Road                                 | Cormac McCarthy     | Post-apocalyptic Fiction      |     287 |               2006 |\n",
      "+------------------------------------------+---------------------+-------------------------------+---------+--------------------+\n",
      "| The Hitchhiker's Guide to the Galaxy     | Douglas Adams       | Science Fiction               |     215 |               1979 |\n",
      "+------------------------------------------+---------------------+-------------------------------+---------+--------------------+\n"
     ]
    }
   ],
   "source": [
    "\n",
    "with open(\"book.csv\", \"r\") as csvfile:\n",
    "    read = csv.reader(csvfile)\n",
    "\n",
    "    data = list(read)\n",
    "\n",
    "result = table(data[1: ], headers=data[0], tablefmt=\"grid\")\n",
    "\n",
    "print(result)"
   ]
  },
  {
   "cell_type": "code",
   "execution_count": 36,
   "metadata": {},
   "outputs": [
    {
     "name": "stdout",
     "output_type": "stream",
     "text": [
      "{'Name': 'Arjun', 'Address': 'Nepal', 'Age': '24'}\n"
     ]
    }
   ],
   "source": [
    "with open(\"new_file.csv\", \"r\") as file:\n",
    "    read = csv.DictReader(file)\n",
    "\n",
    "    for item in read:\n",
    "\n",
    "        print(item)\n",
    "\n"
   ]
  },
  {
   "cell_type": "code",
   "execution_count": 63,
   "metadata": {},
   "outputs": [],
   "source": [
    "csv_columns = ['Name', 'Age', 'Address']\n",
    "\n",
    "dict = [\n",
    "\n",
    "{'Name':'Arjun','Age':23,'Address':'Katmandu'},\n",
    "\n",
    "{'Name':'John','Age':33,'Address':'Patan'}\n",
    "\n",
    "]\n",
    "\n",
    "with open(\"dictwriter.csv\", 'w', newline=\"\") as file:\n",
    "\n",
    "    write = csv.DictWriter(file, fieldnames= csv_columns)\n",
    "    write.writeheader()\n",
    "\n",
    "    write.writerows(dict)\n",
    "\n",
    "\n"
   ]
  },
  {
   "cell_type": "code",
   "execution_count": 40,
   "metadata": {},
   "outputs": [
    {
     "name": "stdout",
     "output_type": "stream",
     "text": [
      "+--------+-------+-----------+\n",
      "| Name   |   Age | Address   |\n",
      "+========+=======+===========+\n",
      "| Arjun  |    23 | Katmandu  |\n",
      "+--------+-------+-----------+\n",
      "| John   |    33 | Patan     |\n",
      "+--------+-------+-----------+\n"
     ]
    }
   ],
   "source": [
    "with open(\"dictwriter.csv\", \"r\") as file:\n",
    "\n",
    "    read = csv.reader(file)\n",
    "\n",
    "    data = list(read)\n",
    "\n",
    "output = table(data[1: ], headers=data[0], tablefmt=\"grid\")\n",
    "\n",
    "print(output)"
   ]
  },
  {
   "cell_type": "code",
   "execution_count": 64,
   "metadata": {},
   "outputs": [],
   "source": [
    "new_list =  {'Name':'Hari','Age':26,'Address':'Pokhara'}\n",
    "\n",
    "try:\n",
    "    with open(\"dictwriter.csv\", \"a\", newline=\"\") as file:\n",
    "        write = csv.DictWriter(file, fieldnames=new_list.keys())\n",
    "        write.writerow(new_list)\n",
    "\n",
    "except IOError:\n",
    "    print(IOError)"
   ]
  },
  {
   "cell_type": "code",
   "execution_count": 65,
   "metadata": {},
   "outputs": [
    {
     "name": "stdout",
     "output_type": "stream",
     "text": [
      "+--------+-------+-----------+\n",
      "| Name   |   Age | Address   |\n",
      "+========+=======+===========+\n",
      "| Arjun  |    23 | Katmandu  |\n",
      "+--------+-------+-----------+\n",
      "| John   |    33 | Patan     |\n",
      "+--------+-------+-----------+\n",
      "| Hari   |    26 | Pokhara   |\n",
      "+--------+-------+-----------+\n"
     ]
    }
   ],
   "source": [
    "with open(\"dictwriter.csv\", \"r\") as file:\n",
    "\n",
    "    read = csv.reader(file)\n",
    "\n",
    "    data = list(read)\n",
    "\n",
    "output = table(data[1: ], headers=data[0], tablefmt=\"grid\")\n",
    "print(output)"
   ]
  },
  {
   "cell_type": "code",
   "execution_count": null,
   "metadata": {},
   "outputs": [],
   "source": []
  }
 ],
 "metadata": {
  "kernelspec": {
   "display_name": "Python 3",
   "language": "python",
   "name": "python3"
  },
  "language_info": {
   "codemirror_mode": {
    "name": "ipython",
    "version": 3
   },
   "file_extension": ".py",
   "mimetype": "text/x-python",
   "name": "python",
   "nbconvert_exporter": "python",
   "pygments_lexer": "ipython3",
   "version": "3.11.5"
  }
 },
 "nbformat": 4,
 "nbformat_minor": 2
}
