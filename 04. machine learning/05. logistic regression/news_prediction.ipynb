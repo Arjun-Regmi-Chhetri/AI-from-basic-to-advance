{
 "cells": [
  {
   "cell_type": "code",
   "execution_count": 48,
   "metadata": {},
   "outputs": [],
   "source": [
    "#!pip install nltk"
   ]
  },
  {
   "cell_type": "code",
   "execution_count": 49,
   "metadata": {},
   "outputs": [
    {
     "name": "stderr",
     "output_type": "stream",
     "text": [
      "[nltk_data] Downloading package stopwords to\n",
      "[nltk_data]     C:\\Users\\arjun\\AppData\\Roaming\\nltk_data...\n",
      "[nltk_data]   Package stopwords is already up-to-date!\n"
     ]
    }
   ],
   "source": [
    "#Libraries\n",
    "\n",
    "import numpy as np\n",
    "import pandas as pd\n",
    "import matplotlib.pyplot as plt\n",
    "import re,string\n",
    "import nltk\n",
    "\n",
    "from nltk.corpus import stopwords\n",
    "from nltk.stem import PorterStemmer\n",
    "\n",
    "\n",
    "from sklearn.feature_extraction.text import TfidfVectorizer\n",
    "from sklearn.pipeline import Pipeline\n",
    "\n",
    "\n",
    "from sklearn.metrics import classification_report, confusion_matrix\n",
    "from sklearn.feature_selection import SelectKBest, chi2\n",
    "from sklearn.model_selection import train_test_split\n",
    "\n",
    "import pickle\n",
    "\n",
    "nltk.download('stopwords')\n",
    "%matplotlib inline\n"
   ]
  },
  {
   "cell_type": "code",
   "execution_count": 50,
   "metadata": {},
   "outputs": [
    {
     "data": {
      "text/html": [
       "<div>\n",
       "<style scoped>\n",
       "    .dataframe tbody tr th:only-of-type {\n",
       "        vertical-align: middle;\n",
       "    }\n",
       "\n",
       "    .dataframe tbody tr th {\n",
       "        vertical-align: top;\n",
       "    }\n",
       "\n",
       "    .dataframe thead th {\n",
       "        text-align: right;\n",
       "    }\n",
       "</style>\n",
       "<table border=\"1\" class=\"dataframe\">\n",
       "  <thead>\n",
       "    <tr style=\"text-align: right;\">\n",
       "      <th></th>\n",
       "      <th>category</th>\n",
       "      <th>text</th>\n",
       "    </tr>\n",
       "  </thead>\n",
       "  <tbody>\n",
       "    <tr>\n",
       "      <th>44</th>\n",
       "      <td>tech</td>\n",
       "      <td>pandas benefit from wireless net the world s d...</td>\n",
       "    </tr>\n",
       "    <tr>\n",
       "      <th>1130</th>\n",
       "      <td>tech</td>\n",
       "      <td>what price for  trusted pc security   you can ...</td>\n",
       "    </tr>\n",
       "    <tr>\n",
       "      <th>1681</th>\n",
       "      <td>sport</td>\n",
       "      <td>fuming robinson blasts officials england coach...</td>\n",
       "    </tr>\n",
       "    <tr>\n",
       "      <th>865</th>\n",
       "      <td>entertainment</td>\n",
       "      <td>brits debate over  urban  music joss stone  a ...</td>\n",
       "    </tr>\n",
       "    <tr>\n",
       "      <th>1807</th>\n",
       "      <td>sport</td>\n",
       "      <td>english clubs make euro history all four of en...</td>\n",
       "    </tr>\n",
       "    <tr>\n",
       "      <th>...</th>\n",
       "      <td>...</td>\n",
       "      <td>...</td>\n",
       "    </tr>\n",
       "    <tr>\n",
       "      <th>1120</th>\n",
       "      <td>politics</td>\n",
       "      <td>blair congratulates bush on win tony blair has...</td>\n",
       "    </tr>\n",
       "    <tr>\n",
       "      <th>167</th>\n",
       "      <td>politics</td>\n",
       "      <td>top judge clashes with ministers the uk s top ...</td>\n",
       "    </tr>\n",
       "    <tr>\n",
       "      <th>1388</th>\n",
       "      <td>entertainment</td>\n",
       "      <td>jungle tv show ratings drop by 4m the finale o...</td>\n",
       "    </tr>\n",
       "    <tr>\n",
       "      <th>1788</th>\n",
       "      <td>entertainment</td>\n",
       "      <td>muslim group attacks tv drama 24 a british mus...</td>\n",
       "    </tr>\n",
       "    <tr>\n",
       "      <th>361</th>\n",
       "      <td>tech</td>\n",
       "      <td>us woman sues over cartridges a us woman is su...</td>\n",
       "    </tr>\n",
       "  </tbody>\n",
       "</table>\n",
       "<p>2225 rows × 2 columns</p>\n",
       "</div>"
      ],
      "text/plain": [
       "           category                                               text\n",
       "44             tech  pandas benefit from wireless net the world s d...\n",
       "1130           tech  what price for  trusted pc security   you can ...\n",
       "1681          sport  fuming robinson blasts officials england coach...\n",
       "865   entertainment  brits debate over  urban  music joss stone  a ...\n",
       "1807          sport  english clubs make euro history all four of en...\n",
       "...             ...                                                ...\n",
       "1120       politics  blair congratulates bush on win tony blair has...\n",
       "167        politics  top judge clashes with ministers the uk s top ...\n",
       "1388  entertainment  jungle tv show ratings drop by 4m the finale o...\n",
       "1788  entertainment  muslim group attacks tv drama 24 a british mus...\n",
       "361            tech  us woman sues over cartridges a us woman is su...\n",
       "\n",
       "[2225 rows x 2 columns]"
      ]
     },
     "execution_count": 50,
     "metadata": {},
     "output_type": "execute_result"
    }
   ],
   "source": [
    "df = pd.read_csv('../bbc_text.csv', encoding='latin1')\n",
    "df = df.sample(frac=1)\n",
    "df"
   ]
  },
  {
   "cell_type": "code",
   "execution_count": 51,
   "metadata": {},
   "outputs": [
    {
     "name": "stdout",
     "output_type": "stream",
     "text": [
      "<class 'pandas.core.frame.DataFrame'>\n",
      "Index: 2225 entries, 44 to 361\n",
      "Data columns (total 2 columns):\n",
      " #   Column    Non-Null Count  Dtype \n",
      "---  ------    --------------  ----- \n",
      " 0   category  2225 non-null   object\n",
      " 1   text      2225 non-null   object\n",
      "dtypes: object(2)\n",
      "memory usage: 52.1+ KB\n"
     ]
    }
   ],
   "source": [
    "df.info()"
   ]
  },
  {
   "cell_type": "code",
   "execution_count": 52,
   "metadata": {},
   "outputs": [
    {
     "data": {
      "text/html": [
       "<div>\n",
       "<style scoped>\n",
       "    .dataframe tbody tr th:only-of-type {\n",
       "        vertical-align: middle;\n",
       "    }\n",
       "\n",
       "    .dataframe tbody tr th {\n",
       "        vertical-align: top;\n",
       "    }\n",
       "\n",
       "    .dataframe thead th {\n",
       "        text-align: right;\n",
       "    }\n",
       "</style>\n",
       "<table border=\"1\" class=\"dataframe\">\n",
       "  <thead>\n",
       "    <tr style=\"text-align: right;\">\n",
       "      <th></th>\n",
       "      <th>category</th>\n",
       "      <th>text</th>\n",
       "    </tr>\n",
       "  </thead>\n",
       "  <tbody>\n",
       "    <tr>\n",
       "      <th>44</th>\n",
       "      <td>tech</td>\n",
       "      <td>pandas benefit from wireless net the world s d...</td>\n",
       "    </tr>\n",
       "    <tr>\n",
       "      <th>1130</th>\n",
       "      <td>tech</td>\n",
       "      <td>what price for  trusted pc security   you can ...</td>\n",
       "    </tr>\n",
       "    <tr>\n",
       "      <th>1681</th>\n",
       "      <td>sport</td>\n",
       "      <td>fuming robinson blasts officials england coach...</td>\n",
       "    </tr>\n",
       "    <tr>\n",
       "      <th>865</th>\n",
       "      <td>entertainment</td>\n",
       "      <td>brits debate over  urban  music joss stone  a ...</td>\n",
       "    </tr>\n",
       "    <tr>\n",
       "      <th>1807</th>\n",
       "      <td>sport</td>\n",
       "      <td>english clubs make euro history all four of en...</td>\n",
       "    </tr>\n",
       "    <tr>\n",
       "      <th>...</th>\n",
       "      <td>...</td>\n",
       "      <td>...</td>\n",
       "    </tr>\n",
       "    <tr>\n",
       "      <th>1120</th>\n",
       "      <td>politics</td>\n",
       "      <td>blair congratulates bush on win tony blair has...</td>\n",
       "    </tr>\n",
       "    <tr>\n",
       "      <th>167</th>\n",
       "      <td>politics</td>\n",
       "      <td>top judge clashes with ministers the uk s top ...</td>\n",
       "    </tr>\n",
       "    <tr>\n",
       "      <th>1388</th>\n",
       "      <td>entertainment</td>\n",
       "      <td>jungle tv show ratings drop by 4m the finale o...</td>\n",
       "    </tr>\n",
       "    <tr>\n",
       "      <th>1788</th>\n",
       "      <td>entertainment</td>\n",
       "      <td>muslim group attacks tv drama 24 a british mus...</td>\n",
       "    </tr>\n",
       "    <tr>\n",
       "      <th>361</th>\n",
       "      <td>tech</td>\n",
       "      <td>us woman sues over cartridges a us woman is su...</td>\n",
       "    </tr>\n",
       "  </tbody>\n",
       "</table>\n",
       "<p>2225 rows × 2 columns</p>\n",
       "</div>"
      ],
      "text/plain": [
       "           category                                               text\n",
       "44             tech  pandas benefit from wireless net the world s d...\n",
       "1130           tech  what price for  trusted pc security   you can ...\n",
       "1681          sport  fuming robinson blasts officials england coach...\n",
       "865   entertainment  brits debate over  urban  music joss stone  a ...\n",
       "1807          sport  english clubs make euro history all four of en...\n",
       "...             ...                                                ...\n",
       "1120       politics  blair congratulates bush on win tony blair has...\n",
       "167        politics  top judge clashes with ministers the uk s top ...\n",
       "1388  entertainment  jungle tv show ratings drop by 4m the finale o...\n",
       "1788  entertainment  muslim group attacks tv drama 24 a british mus...\n",
       "361            tech  us woman sues over cartridges a us woman is su...\n",
       "\n",
       "[2225 rows x 2 columns]"
      ]
     },
     "execution_count": 52,
     "metadata": {},
     "output_type": "execute_result"
    }
   ],
   "source": [
    "df = df.dropna()\n",
    "df"
   ]
  },
  {
   "cell_type": "code",
   "execution_count": 53,
   "metadata": {},
   "outputs": [
    {
     "data": {
      "text/plain": [
       "5"
      ]
     },
     "execution_count": 53,
     "metadata": {},
     "output_type": "execute_result"
    }
   ],
   "source": [
    "len(set(df['category']))"
   ]
  },
  {
   "cell_type": "code",
   "execution_count": 54,
   "metadata": {},
   "outputs": [
    {
     "data": {
      "text/plain": [
       "category\n",
       "business         510\n",
       "entertainment    386\n",
       "politics         417\n",
       "sport            511\n",
       "tech             401\n",
       "Name: category, dtype: int64"
      ]
     },
     "execution_count": 54,
     "metadata": {},
     "output_type": "execute_result"
    }
   ],
   "source": [
    "df.groupby('category').category.count()"
   ]
  },
  {
   "cell_type": "code",
   "execution_count": 55,
   "metadata": {},
   "outputs": [
    {
     "data": {
      "image/png": "[encoded data removed]",
      "text/plain": [
       "<Figure size 640x480 with 1 Axes>"
      ]
     },
     "metadata": {},
     "output_type": "display_data"
    }
   ],
   "source": [
    "#analyzing the data\n",
    "\n",
    "df.groupby('category').category.count().plot.bar()\n",
    "\n",
    "plt.show()"
   ]
  },
  {
   "cell_type": "code",
   "execution_count": 56,
   "metadata": {},
   "outputs": [
    {
     "name": "stdout",
     "output_type": "stream",
     "text": [
      "['i', 'me', 'my', 'myself', 'we', 'our', 'ours', 'ourselves', 'you', \"you're\", \"you've\", \"you'll\", \"you'd\", 'your', 'yours', 'yourself', 'yourselves', 'he', 'him', 'his', 'himself', 'she', \"she's\", 'her', 'hers', 'herself', 'it', \"it's\", 'its', 'itself', 'they', 'them', 'their', 'theirs', 'themselves', 'what', 'which', 'who', 'whom', 'this', 'that', \"that'll\", 'these', 'those', 'am', 'is', 'are', 'was', 'were', 'be', 'been', 'being', 'have', 'has', 'had', 'having', 'do', 'does', 'did', 'doing', 'a', 'an', 'the', 'and', 'but', 'if', 'or', 'because', 'as', 'until', 'while', 'of', 'at', 'by', 'for', 'with', 'about', 'against', 'between', 'into', 'through', 'during', 'before', 'after', 'above', 'below', 'to', 'from', 'up', 'down', 'in', 'out', 'on', 'off', 'over', 'under', 'again', 'further', 'then', 'once', 'here', 'there', 'when', 'where', 'why', 'how', 'all', 'any', 'both', 'each', 'few', 'more', 'most', 'other', 'some', 'such', 'no', 'nor', 'not', 'only', 'own', 'same', 'so', 'than', 'too', 'very', 's', 't', 'can', 'will', 'just', 'don', \"don't\", 'should', \"should've\", 'now', 'd', 'll', 'm', 'o', 're', 've', 'y', 'ain', 'aren', \"aren't\", 'couldn', \"couldn't\", 'didn', \"didn't\", 'doesn', \"doesn't\", 'hadn', \"hadn't\", 'hasn', \"hasn't\", 'haven', \"haven't\", 'isn', \"isn't\", 'ma', 'mightn', \"mightn't\", 'mustn', \"mustn't\", 'needn', \"needn't\", 'shan', \"shan't\", 'shouldn', \"shouldn't\", 'wasn', \"wasn't\", 'weren', \"weren't\", 'won', \"won't\", 'wouldn', \"wouldn't\"]\n"
     ]
    }
   ],
   "source": [
    "words = stopwords.words('english')\n",
    "print(words)"
   ]
  },
  {
   "cell_type": "code",
   "execution_count": 57,
   "metadata": {},
   "outputs": [
    {
     "data": {
      "text/plain": [
       "'Hello_World    '"
      ]
     },
     "execution_count": 57,
     "metadata": {},
     "output_type": "execute_result"
    }
   ],
   "source": [
    "a = \"Hello_World!243\"\n",
    "regs = re.sub(\"[^a-zA-z]\", \" \", a)\n",
    "regs"
   ]
  },
  {
   "cell_type": "code",
   "execution_count": 58,
   "metadata": {},
   "outputs": [
    {
     "name": "stdout",
     "output_type": "stream",
     "text": [
      "ibm frees     software patents computer giant ibm says     of its software patents will be released into the open development community   the move means developers will be able to use the technologies without paying for a licence from the company  ibm described the step as a  new era  in how it dealt with intellectual property and promised further patents would be made freely available  the patents include software for a range of practices  including text recognition and database management  traditional technology business policy is to amass patents and despite ibm s announcement the company continues to follow this route   ibm was granted       patents in       more than any other firm in the us  the new york times reports  for each of the past    years ibm has been granted more us patents than any other company  ibm has received        us patents in that period and reportedly has more than        current patents  in a statement  dr john e  kelly  ibm senior vice president  technology and intellectual property  said   true innovation leadership is about more than just the numbers of patents granted  it s about innovating to benefit customers  partners and society    our pledge today is the beginning of a new era in how ibm will manage intellectual property   in the past  ibm has supported the non commercial operating system linux although critics have said this was done only as an attempt to undermine microsoft   the company said it wanted to encourage other firms to release patents into what it called a  patent commons   adam jollans  ibm s world wide linux strategy manager  said the move was a genuine attempt to encourage innovation   we believe that releasing these patents will result in innovation moving more quickly   this is about encouraging collaboration and following a model much like academia   mr jollans likened the plan for a patent commons to the way the internet was developed and said everyone could take advantage of the result of collaboration   the internet s impact has been on everyone  the benefits are there for everyone to take advantage of   stuart cohen  chief executive of us firm open source development labs  said the move could mean a change in the way companies deal with patents    i think other companies will follow suit   he said  but not everyone was as supportive  florian mueller  campaign manager of a group lobbying toprevent software patents becoming legal in the european union dismissed ibm s move as insubstantial   it s just diversionary tactics   wrote mr mueller  who leadsnosoftwarepatents com  in a message on the group s website   let s put this into perspective  we re talking aboutroughly one percent of ibm s worldwide patent portfolio  they filethat number of patents in about a month s time   he added  ibm will continue to hold the     patents but it has pledged to seek no royalties from the patents  the company said it would not place any restrictions on companies  groups or individuals who use them in open source projects  open source software is developed by programmers who offer the source code   the origins of the program   for free and allow others to adapt or improve the software  end users have the right to modify and redistribute the software  as well as the right to package and sell the software  other areas covered by the patents released by ibm include storage management  simultaneous multiprocessing  image processing  networking and e commerce \n"
     ]
    }
   ],
   "source": [
    "#data cleaning using regs\n",
    "regs = re.sub(\"[^a-zA-Z]\", \" \", df['text'][126].lower())\n",
    "print(regs)"
   ]
  },
  {
   "cell_type": "code",
   "execution_count": 59,
   "metadata": {},
   "outputs": [
    {
     "name": "stdout",
     "output_type": "stream",
     "text": [
      "['I', 'am', 'loving', 'computing']\n"
     ]
    },
    {
     "data": {
      "text/plain": [
       "'i am love comput'"
      ]
     },
     "execution_count": 59,
     "metadata": {},
     "output_type": "execute_result"
    }
   ],
   "source": [
    "#data ceaning using steemer \n",
    "\n",
    "stemmer = PorterStemmer()\n",
    "\n",
    "data = \"I am loving computing\".split()\n",
    "\n",
    "print(data)\n",
    "\n",
    "\" \".join([stemmer.stem(i) for i in data])"
   ]
  },
  {
   "cell_type": "code",
   "execution_count": 60,
   "metadata": {},
   "outputs": [
    {
     "name": "stdout",
     "output_type": "stream",
     "text": [
      "['tv', 'future', 'in', 'the', 'hands', 'of', 'viewers', 'with', 'home', 'theatre', 'systems', 'plasma', 'high-definition', 'tvs', 'and', 'digital', 'video', 'recorders', 'moving', 'into', 'the', 'living', 'room', 'the', 'way', 'people', 'watch', 'tv', 'will', 'be', 'radically', 'different', 'in', 'five', 'years', 'time.', 'that', 'is', 'according', 'to', 'an', 'expert', 'panel', 'which', 'gathered', 'at', 'the', 'annual', 'consumer', 'electronics', 'show', 'in', 'las', 'vegas', 'to', 'discuss', 'how', 'these', 'new', 'technologies', 'will', 'impact', 'one', 'of', 'our', 'favourite', 'pastimes.', 'with', 'the', 'us', 'leading', 'the', 'trend', 'programmes', 'and', 'other', 'content', 'will', 'be', 'delivered', 'to', 'viewers', 'via', 'home', 'networks', 'through', 'cable', 'satellite', 'telecoms', 'companies', 'and', 'broadband', 'service', 'providers', 'to', 'front', 'rooms', 'and', 'portable', 'devices.', 'one', 'of', 'the', 'most', 'talked-about', 'technologies', 'of', 'ces', 'has', 'been', 'digital', 'and', 'personal', 'video', 'recorders', '(dvr', 'and', 'pvr).', 'these', 'set-top', 'boxes', 'like', 'the', 'us', 's', 'tivo', 'and', 'the', 'uk', 's', 'sky+', 'system', 'allow', 'people', 'to', 'record', 'store', 'play', 'pause', 'and', 'forward', 'wind', 'tv', 'programmes', 'when', 'they', 'want.', 'essentially', 'the', 'technology', 'allows', 'for', 'much', 'more', 'personalised', 'tv.', 'they', 'are', 'also', 'being', 'built-in', 'to', 'high-definition', 'tv', 'sets', 'which', 'are', 'big', 'business', 'in', 'japan', 'and', 'the', 'us', 'but', 'slower', 'to', 'take', 'off', 'in', 'europe', 'because', 'of', 'the', 'lack', 'of', 'high-definition', 'programming.', 'not', 'only', 'can', 'people', 'forward', 'wind', 'through', 'adverts', 'they', 'can', 'also', 'forget', 'about', 'abiding', 'by', 'network', 'and', 'channel', 'schedules', 'putting', 'together', 'their', 'own', 'a-la-carte', 'entertainment.', 'but', 'some', 'us', 'networks', 'and', 'cable', 'and', 'satellite', 'companies', 'are', 'worried', 'about', 'what', 'it', 'means', 'for', 'them', 'in', 'terms', 'of', 'advertising', 'revenues', 'as', 'well', 'as', 'brand', 'identity', 'and', 'viewer', 'loyalty', 'to', 'channels.', 'although', 'the', 'us', 'leads', 'in', 'this', 'technology', 'at', 'the', 'moment', 'it', 'is', 'also', 'a', 'concern', 'that', 'is', 'being', 'raised', 'in', 'europe', 'particularly', 'with', 'the', 'growing', 'uptake', 'of', 'services', 'like', 'sky+.', 'what', 'happens', 'here', 'today', 'we', 'will', 'see', 'in', 'nine', 'months', 'to', 'a', 'years', 'time', 'in', 'the', 'uk', 'adam', 'hume', 'the', 'bbc', 'broadcast', 's', 'futurologist', 'told', 'the', 'bbc', 'news', 'website.', 'for', 'the', 'likes', 'of', 'the', 'bbc', 'there', 'are', 'no', 'issues', 'of', 'lost', 'advertising', 'revenue', 'yet.', 'it', 'is', 'a', 'more', 'pressing', 'issue', 'at', 'the', 'moment', 'for', 'commercial', 'uk', 'broadcasters', 'but', 'brand', 'loyalty', 'is', 'important', 'for', 'everyone.', 'we', 'will', 'be', 'talking', 'more', 'about', 'content', 'brands', 'rather', 'than', 'network', 'brands', 'said', 'tim', 'hanlon', 'from', 'brand', 'communications', 'firm', 'starcom', 'mediavest.', 'the', 'reality', 'is', 'that', 'with', 'broadband', 'connections', 'anybody', 'can', 'be', 'the', 'producer', 'of', 'content.', 'he', 'added:', 'the', 'challenge', 'now', 'is', 'that', 'it', 'is', 'hard', 'to', 'promote', 'a', 'programme', 'with', 'so', 'much', 'choice.', 'what', 'this', 'means', 'said', 'stacey', 'jolna', 'senior', 'vice', 'president', 'of', 'tv', 'guide', 'tv', 'group', 'is', 'that', 'the', 'way', 'people', 'find', 'the', 'content', 'they', 'want', 'to', 'watch', 'has', 'to', 'be', 'simplified', 'for', 'tv', 'viewers.', 'it', 'means', 'that', 'networks', 'in', 'us', 'terms', 'or', 'channels', 'could', 'take', 'a', 'leaf', 'out', 'of', 'google', 's', 'book', 'and', 'be', 'the', 'search', 'engine', 'of', 'the', 'future', 'instead', 'of', 'the', 'scheduler', 'to', 'help', 'people', 'find', 'what', 'they', 'want', 'to', 'watch.', 'this', 'kind', 'of', 'channel', 'model', 'might', 'work', 'for', 'the', 'younger', 'ipod', 'generation', 'which', 'is', 'used', 'to', 'taking', 'control', 'of', 'their', 'gadgets', 'and', 'what', 'they', 'play', 'on', 'them.', 'but', 'it', 'might', 'not', 'suit', 'everyone', 'the', 'panel', 'recognised.', 'older', 'generations', 'are', 'more', 'comfortable', 'with', 'familiar', 'schedules', 'and', 'channel', 'brands', 'because', 'they', 'know', 'what', 'they', 'are', 'getting.', 'they', 'perhaps', 'do', 'not', 'want', 'so', 'much', 'of', 'the', 'choice', 'put', 'into', 'their', 'hands', 'mr', 'hanlon', 'suggested.', 'on', 'the', 'other', 'end', 'you', 'have', 'the', 'kids', 'just', 'out', 'of', 'diapers', 'who', 'are', 'pushing', 'buttons', 'already', '-', 'everything', 'is', 'possible', 'and', 'available', 'to', 'them', 'said', 'mr', 'hanlon.', 'ultimately', 'the', 'consumer', 'will', 'tell', 'the', 'market', 'they', 'want.', 'of', 'the', '50', '000', 'new', 'gadgets', 'and', 'technologies', 'being', 'showcased', 'at', 'ces', 'many', 'of', 'them', 'are', 'about', 'enhancing', 'the', 'tv-watching', 'experience.', 'high-definition', 'tv', 'sets', 'are', 'everywhere', 'and', 'many', 'new', 'models', 'of', 'lcd', '(liquid', 'crystal', 'display)', 'tvs', 'have', 'been', 'launched', 'with', 'dvr', 'capability', 'built', 'into', 'them', 'instead', 'of', 'being', 'external', 'boxes.', 'one', 'such', 'example', 'launched', 'at', 'the', 'show', 'is', 'humax', 's', '26-inch', 'lcd', 'tv', 'with', 'an', '80-hour', 'tivo', 'dvr', 'and', 'dvd', 'recorder.', 'one', 'of', 'the', 'us', 's', 'biggest', 'satellite', 'tv', 'companies', 'directtv', 'has', 'even', 'launched', 'its', 'own', 'branded', 'dvr', 'at', 'the', 'show', 'with', '100-hours', 'of', 'recording', 'capability', 'instant', 'replay', 'and', 'a', 'search', 'function.', 'the', 'set', 'can', 'pause', 'and', 'rewind', 'tv', 'for', 'up', 'to', '90', 'hours.', 'and', 'microsoft', 'chief', 'bill', 'gates', 'announced', 'in', 'his', 'pre-show', 'keynote', 'speech', 'a', 'partnership', 'with', 'tivo', 'called', 'tivotogo', 'which', 'means', 'people', 'can', 'play', 'recorded', 'programmes', 'on', 'windows', 'pcs', 'and', 'mobile', 'devices.', 'all', 'these', 'reflect', 'the', 'increasing', 'trend', 'of', 'freeing', 'up', 'multimedia', 'so', 'that', 'people', 'can', 'watch', 'what', 'they', 'want', 'when', 'they', 'want.']\n"
     ]
    },
    {
     "data": {
      "text/plain": [
       "'tv futur in the hand of viewer with home theatr system plasma high-definit tv and digit video record move into the live room the way peopl watch tv will be radic differ in five year time. that is accord to an expert panel which gather at the annual consum electron show in la vega to discuss how these new technolog will impact one of our favourit pastimes. with the us lead the trend programm and other content will be deliv to viewer via home network through cabl satellit telecom compani and broadband servic provid to front room and portabl devices. one of the most talked-about technolog of ce ha been digit and person video record (dvr and pvr). these set-top box like the us s tivo and the uk s sky+ system allow peopl to record store play paus and forward wind tv programm when they want. essenti the technolog allow for much more personalis tv. they are also be built-in to high-definit tv set which are big busi in japan and the us but slower to take off in europ becaus of the lack of high-definit programming. not onli can peopl forward wind through advert they can also forget about abid by network and channel schedul put togeth their own a-la-cart entertainment. but some us network and cabl and satellit compani are worri about what it mean for them in term of advertis revenu as well as brand ident and viewer loyalti to channels. although the us lead in thi technolog at the moment it is also a concern that is be rais in europ particularli with the grow uptak of servic like sky+. what happen here today we will see in nine month to a year time in the uk adam hume the bbc broadcast s futurologist told the bbc news website. for the like of the bbc there are no issu of lost advertis revenu yet. it is a more press issu at the moment for commerci uk broadcast but brand loyalti is import for everyone. we will be talk more about content brand rather than network brand said tim hanlon from brand commun firm starcom mediavest. the realiti is that with broadband connect anybodi can be the produc of content. he added: the challeng now is that it is hard to promot a programm with so much choice. what thi mean said stacey jolna senior vice presid of tv guid tv group is that the way peopl find the content they want to watch ha to be simplifi for tv viewers. it mean that network in us term or channel could take a leaf out of googl s book and be the search engin of the futur instead of the schedul to help peopl find what they want to watch. thi kind of channel model might work for the younger ipod gener which is use to take control of their gadget and what they play on them. but it might not suit everyon the panel recognised. older gener are more comfort with familiar schedul and channel brand becaus they know what they are getting. they perhap do not want so much of the choic put into their hand mr hanlon suggested. on the other end you have the kid just out of diaper who are push button alreadi - everyth is possibl and avail to them said mr hanlon. ultim the consum will tell the market they want. of the 50 000 new gadget and technolog be showcas at ce mani of them are about enhanc the tv-watch experience. high-definit tv set are everywher and mani new model of lcd (liquid crystal display) tv have been launch with dvr capabl built into them instead of be extern boxes. one such exampl launch at the show is humax s 26-inch lcd tv with an 80-hour tivo dvr and dvd recorder. one of the us s biggest satellit tv compani directtv ha even launch it own brand dvr at the show with 100-hour of record capabl instant replay and a search function. the set can paus and rewind tv for up to 90 hours. and microsoft chief bill gate announc in hi pre-show keynot speech a partnership with tivo call tivotogo which mean peopl can play record programm on window pc and mobil devices. all these reflect the increas trend of free up multimedia so that peopl can watch what they want when they want.'"
      ]
     },
     "execution_count": 60,
     "metadata": {},
     "output_type": "execute_result"
    }
   ],
   "source": [
    "#data cleaning using stemmer\n",
    "\n",
    "stemmer = PorterStemmer()\n",
    "\n",
    "data = df['text'][0].split()\n",
    "\n",
    "print(data)\n",
    "\n",
    "\" \".join([stemmer.stem(i) for i in data])"
   ]
  },
  {
   "cell_type": "code",
   "execution_count": 61,
   "metadata": {},
   "outputs": [
    {
     "data": {
      "text/plain": [
       "'tv future hands viewers home theatre systems plasma high-definition tvs digital video recorders moving living room way people watch tv radically different five years time. according expert panel gathered annual consumer electronics show las vegas discuss new technologies impact one favourite pastimes. us leading trend programmes content delivered viewers via home networks cable satellite telecoms companies broadband service providers front rooms portable devices. one talked-about technologies ces digital personal video recorders (dvr pvr). set-top boxes like us tivo uk sky+ system allow people record store play pause forward wind tv programmes want. essentially technology allows much personalised tv. also built-in high-definition tv sets big business japan us slower take europe lack high-definition programming. people forward wind adverts also forget abiding network channel schedules putting together a-la-carte entertainment. us networks cable satellite companies worried means terms advertising revenues well brand identity viewer loyalty channels. although us leads technology moment also concern raised europe particularly growing uptake services like sky+. happens today see nine months years time uk adam hume bbc broadcast futurologist told bbc news website. likes bbc issues lost advertising revenue yet. pressing issue moment commercial uk broadcasters brand loyalty important everyone. talking content brands rather network brands said tim hanlon brand communications firm starcom mediavest. reality broadband connections anybody producer content. added: challenge hard promote programme much choice. means said stacey jolna senior vice president tv guide tv group way people find content want watch simplified tv viewers. means networks us terms channels could take leaf google book search engine future instead scheduler help people find want watch. kind channel model might work younger ipod generation used taking control gadgets play them. might suit everyone panel recognised. older generations comfortable familiar schedules channel brands know getting. perhaps want much choice put hands mr hanlon suggested. end kids diapers pushing buttons already - everything possible available said mr hanlon. ultimately consumer tell market want. 50 000 new gadgets technologies showcased ces many enhancing tv-watching experience. high-definition tv sets everywhere many new models lcd (liquid crystal display) tvs launched dvr capability built instead external boxes. one example launched show humax 26-inch lcd tv 80-hour tivo dvr dvd recorder. one us biggest satellite tv companies directtv even launched branded dvr show 100-hours recording capability instant replay search function. set pause rewind tv 90 hours. microsoft chief bill gates announced pre-show keynote speech partnership tivo called tivotogo means people play recorded programmes windows pcs mobile devices. reflect increasing trend freeing multimedia people watch want want.'"
      ]
     },
     "execution_count": 61,
     "metadata": {},
     "output_type": "execute_result"
    }
   ],
   "source": [
    "# removing stopwords\n",
    "\n",
    "words = stopwords.words('english')\n",
    "data = df['text'][0].split()\n",
    "\n",
    "for i in words:\n",
    "    if i in data:\n",
    "        c= data.count(i)\n",
    "        for j in range(c):\n",
    "            data.remove(i)\n",
    "\" \".join(data)\n"
   ]
  },
  {
   "cell_type": "code",
   "execution_count": 62,
   "metadata": {},
   "outputs": [
    {
     "data": {
      "text/plain": [
       "'ibm frees software patents computer giant ibm says software patents released open development community move means developers able use technologies without paying licence company ibm described step new era dealt intellectual property promised patents would made freely available patents include software range practices including text recognition database management traditional technology business policy amass patents despite ibm announcement company continues follow route ibm granted patents firm us new york times reports past years ibm granted us patents company ibm received us patents period reportedly current patents statement dr john e kelly ibm senior vice president technology intellectual property said true innovation leadership numbers patents granted innovating benefit customers partners society pledge today beginning new era ibm manage intellectual property past ibm supported non commercial operating system linux although critics said done attempt undermine microsoft company said wanted encourage firms release patents called patent commons adam jollans ibm world wide linux strategy manager said move genuine attempt encourage innovation believe releasing patents result innovation moving quickly encouraging collaboration following model much like academia mr jollans likened plan patent commons way internet developed said everyone could take advantage result collaboration internet impact everyone benefits everyone take advantage stuart cohen chief executive us firm open source development labs said move could mean change way companies deal patents think companies follow suit said everyone supportive florian mueller campaign manager group lobbying toprevent software patents becoming legal european union dismissed ibm move insubstantial diversionary tactics wrote mr mueller leadsnosoftwarepatents com message group website let put perspective talking aboutroughly one percent ibm worldwide patent portfolio filethat number patents month time added ibm continue hold patents pledged seek royalties patents company said would place restrictions companies groups individuals use open source projects open source software developed programmers offer source code origins program free allow others adapt improve software end users right modify redistribute software well right package sell software areas covered patents released ibm include storage management simultaneous multiprocessing image processing networking e commerce'"
      ]
     },
     "execution_count": 62,
     "metadata": {},
     "output_type": "execute_result"
    }
   ],
   "source": [
    "# Data cleaning removing stopwords\n",
    "\n",
    "words = stopwords.words('english')\n",
    "regs = re.sub(\"[^a-zA-Z]\", \" \", df['text'][126].lower())\n",
    "\n",
    "without_stopwords_news = \" \".join([ i for i in regs.split() if i not in words ])\n",
    "without_stopwords_news"
   ]
  },
  {
   "cell_type": "code",
   "execution_count": 64,
   "metadata": {},
   "outputs": [
    {
     "data": {
      "text/html": [
       "<div>\n",
       "<style scoped>\n",
       "    .dataframe tbody tr th:only-of-type {\n",
       "        vertical-align: middle;\n",
       "    }\n",
       "\n",
       "    .dataframe tbody tr th {\n",
       "        vertical-align: top;\n",
       "    }\n",
       "\n",
       "    .dataframe thead th {\n",
       "        text-align: right;\n",
       "    }\n",
       "</style>\n",
       "<table border=\"1\" class=\"dataframe\">\n",
       "  <thead>\n",
       "    <tr style=\"text-align: right;\">\n",
       "      <th></th>\n",
       "      <th>category</th>\n",
       "      <th>text</th>\n",
       "      <th>cleaned</th>\n",
       "    </tr>\n",
       "  </thead>\n",
       "  <tbody>\n",
       "    <tr>\n",
       "      <th>44</th>\n",
       "      <td>tech</td>\n",
       "      <td>pandas benefit from wireless net the world s d...</td>\n",
       "      <td>panda benefit wireless net world dwindl panda ...</td>\n",
       "    </tr>\n",
       "    <tr>\n",
       "      <th>1130</th>\n",
       "      <td>tech</td>\n",
       "      <td>what price for  trusted pc security   you can ...</td>\n",
       "      <td>price trust pc secur buy trust comput realli t...</td>\n",
       "    </tr>\n",
       "    <tr>\n",
       "      <th>1681</th>\n",
       "      <td>sport</td>\n",
       "      <td>fuming robinson blasts officials england coach...</td>\n",
       "      <td>fume robinson blast offici england coach andi ...</td>\n",
       "    </tr>\n",
       "    <tr>\n",
       "      <th>865</th>\n",
       "      <td>entertainment</td>\n",
       "      <td>brits debate over  urban  music joss stone  a ...</td>\n",
       "      <td>brit debat urban music joss stone year old sou...</td>\n",
       "    </tr>\n",
       "    <tr>\n",
       "      <th>1807</th>\n",
       "      <td>sport</td>\n",
       "      <td>english clubs make euro history all four of en...</td>\n",
       "      <td>english club make euro histori four england ch...</td>\n",
       "    </tr>\n",
       "    <tr>\n",
       "      <th>...</th>\n",
       "      <td>...</td>\n",
       "      <td>...</td>\n",
       "      <td>...</td>\n",
       "    </tr>\n",
       "    <tr>\n",
       "      <th>1120</th>\n",
       "      <td>politics</td>\n",
       "      <td>blair congratulates bush on win tony blair has...</td>\n",
       "      <td>blair congratul bush win toni blair said look ...</td>\n",
       "    </tr>\n",
       "    <tr>\n",
       "      <th>167</th>\n",
       "      <td>politics</td>\n",
       "      <td>top judge clashes with ministers the uk s top ...</td>\n",
       "      <td>top judg clash minist uk top judg reveal clash...</td>\n",
       "    </tr>\n",
       "    <tr>\n",
       "      <th>1388</th>\n",
       "      <td>entertainment</td>\n",
       "      <td>jungle tv show ratings drop by 4m the finale o...</td>\n",
       "      <td>jungl tv show rate drop final itv celebr get d...</td>\n",
       "    </tr>\n",
       "    <tr>\n",
       "      <th>1788</th>\n",
       "      <td>entertainment</td>\n",
       "      <td>muslim group attacks tv drama 24 a british mus...</td>\n",
       "      <td>muslim group attack tv drama british muslim gr...</td>\n",
       "    </tr>\n",
       "    <tr>\n",
       "      <th>361</th>\n",
       "      <td>tech</td>\n",
       "      <td>us woman sues over cartridges a us woman is su...</td>\n",
       "      <td>us woman sue cartridg us woman su hewlett pack...</td>\n",
       "    </tr>\n",
       "  </tbody>\n",
       "</table>\n",
       "<p>2225 rows × 3 columns</p>\n",
       "</div>"
      ],
      "text/plain": [
       "           category                                               text  \\\n",
       "44             tech  pandas benefit from wireless net the world s d...   \n",
       "1130           tech  what price for  trusted pc security   you can ...   \n",
       "1681          sport  fuming robinson blasts officials england coach...   \n",
       "865   entertainment  brits debate over  urban  music joss stone  a ...   \n",
       "1807          sport  english clubs make euro history all four of en...   \n",
       "...             ...                                                ...   \n",
       "1120       politics  blair congratulates bush on win tony blair has...   \n",
       "167        politics  top judge clashes with ministers the uk s top ...   \n",
       "1388  entertainment  jungle tv show ratings drop by 4m the finale o...   \n",
       "1788  entertainment  muslim group attacks tv drama 24 a british mus...   \n",
       "361            tech  us woman sues over cartridges a us woman is su...   \n",
       "\n",
       "                                                cleaned  \n",
       "44    panda benefit wireless net world dwindl panda ...  \n",
       "1130  price trust pc secur buy trust comput realli t...  \n",
       "1681  fume robinson blast offici england coach andi ...  \n",
       "865   brit debat urban music joss stone year old sou...  \n",
       "1807  english club make euro histori four england ch...  \n",
       "...                                                 ...  \n",
       "1120  blair congratul bush win toni blair said look ...  \n",
       "167   top judg clash minist uk top judg reveal clash...  \n",
       "1388  jungl tv show rate drop final itv celebr get d...  \n",
       "1788  muslim group attack tv drama british muslim gr...  \n",
       "361   us woman sue cartridg us woman su hewlett pack...  \n",
       "\n",
       "[2225 rows x 3 columns]"
      ]
     },
     "execution_count": 64,
     "metadata": {},
     "output_type": "execute_result"
    }
   ],
   "source": [
    "#doing all cleaning process using regex, stemmer, stopwrods for all data\n",
    "\n",
    "\n",
    "df['cleaned'] = list(map(lambda x: \" \".join([i for i in re.sub(\"[^a-zA-Z]\", \" \", x).split() if i not in words]), df['text']))\n",
    "df['cleaned'] = df['cleaned'].apply(lambda x: \" \".join([PorterStemmer().stem(i) for i in x.lower().split()]))\n",
    "df"
   ]
  },
  {
   "cell_type": "code",
   "execution_count": 66,
   "metadata": {},
   "outputs": [],
   "source": [
    "df.to_csv('../cleaned_news.csv')"
   ]
  },
  {
   "cell_type": "code",
   "execution_count": 69,
   "metadata": {},
   "outputs": [],
   "source": [
    "#Training the model \n",
    "\n",
    "from sklearn.linear_model import LogisticRegression\n",
    "\n",
    "log_reg = LogisticRegression()\n",
    "\n",
    "vectorizer = TfidfVectorizer()\n",
    "\n",
    "X = df['cleaned']\n",
    "Y = df['category']\n",
    "\n",
    "X_train, X_test, Y_train, Y_test = train_test_split(X,Y, test_size=0.15)  \n",
    "\n",
    "#creating pipeling\n",
    "\n",
    "pipeline = Pipeline([\n",
    "    ('vect', vectorizer),\n",
    "    ('chi', SelectKBest(chi2, k =2000)),\n",
    "    ('clf', LogisticRegression(random_state=1))\n",
    "])\n",
    "\n",
    "\n",
    "model = pipeline.fit(X_train, Y_train)\n",
    "\n",
    "#creating pickle file\n",
    "with open('news/LogisticRegression.pickle', 'wb') as f:\n",
    "    pickle.dump(model, f)"
   ]
  },
  {
   "cell_type": "code",
   "execution_count": 70,
   "metadata": {},
   "outputs": [],
   "source": [
    "# to use model\n",
    "\n",
    "import pickle as pk\n",
    "\n",
    "filename= 'news/LogisticRegression.pickle'\n",
    "model = pk.load(open(filename, 'rb'))"
   ]
  },
  {
   "cell_type": "code",
   "execution_count": 71,
   "metadata": {},
   "outputs": [
    {
     "name": "stdout",
     "output_type": "stream",
     "text": [
      "1299    troubl marsh sec scrutini us stock market regu...\n",
      "2222    rem announc new glasgow concert us band rem an...\n",
      "473     broadband steam ahead us american join interne...\n",
      "1729    us prepar hybrid onslaught sale hybrid car us ...\n",
      "692     uk troop ivori coast standbi down street confi...\n",
      "                              ...                        \n",
      "429     venezuela identifi idl farm venezuelan author ...\n",
      "781     europ back digit tv lifestyl peopl receiv digi...\n",
      "1195    duff rule barcelona clash chelsea damien duff ...\n",
      "1718    fame music director viotti die conductor marce...\n",
      "42      hous price show slight increas price home uk r...\n",
      "Name: cleaned, Length: 334, dtype: object 1299         business\n",
      "2222    entertainment\n",
      "473              tech\n",
      "1729         business\n",
      "692          politics\n",
      "            ...      \n",
      "429          business\n",
      "781              tech\n",
      "1195            sport\n",
      "1718    entertainment\n",
      "42           business\n",
      "Name: category, Length: 334, dtype: object\n"
     ]
    }
   ],
   "source": [
    "print(X_test, Y_test)"
   ]
  },
  {
   "cell_type": "code",
   "execution_count": 72,
   "metadata": {},
   "outputs": [
    {
     "name": "stdout",
     "output_type": "stream",
     "text": [
      "Test accouracy = 0.9730538922155688\n",
      "Train accouracy = 0.9883659439450027\n"
     ]
    }
   ],
   "source": [
    "#accuracy \n",
    "\n",
    "from sklearn.metrics import accuracy_score\n",
    "\n",
    "predict_news_test_cat = model.predict(X_test)\n",
    "predict_news_train_cat = model.predict(X_train)\n",
    "\n",
    "print(f\"Test accouracy = {accuracy_score(Y_test, predict_news_test_cat)}\")\n",
    "print(f\"Train accouracy = {accuracy_score(Y_train, predict_news_train_cat)}\")\n"
   ]
  },
  {
   "cell_type": "code",
   "execution_count": 74,
   "metadata": {},
   "outputs": [
    {
     "name": "stdout",
     "output_type": "stream",
     "text": [
      "Venkatesh Iyer is an Indian all-rounder who bats left-handed. Iyer, who was born in Indore, made his T20 debut for Madhya Pradesh against Saurashtra in the Syed Mushtaq Ali Trophy season of 2014–15, marking the start of his professional career. He is known for his hard hitting abilities along with his height in his favor.\n",
      "Predicted news category =  sport\n"
     ]
    }
   ],
   "source": [
    "news = input(\"Enter news = \")\n",
    "news_data = {'predict_news' : [news]}\n",
    "\n",
    "news_data_df = pd.DataFrame(news_data)\n",
    "\n",
    "predict_news_cat = model.predict(news_data_df['predict_news'])\n",
    "print(news)\n",
    "print(\"Predicted news category = \",predict_news_cat[0])"
   ]
  },
  {
   "cell_type": "code",
   "execution_count": 76,
   "metadata": {},
   "outputs": [
    {
     "name": "stdout",
     "output_type": "stream",
     "text": [
      "               precision    recall  f1-score   support\n",
      "\n",
      "     business       0.94      0.97      0.96        77\n",
      "entertainment       0.98      1.00      0.99        54\n",
      "     politics       1.00      0.94      0.97        71\n",
      "        sport       0.97      1.00      0.99        71\n",
      "         tech       0.98      0.95      0.97        61\n",
      "\n",
      "     accuracy                           0.97       334\n",
      "    macro avg       0.97      0.97      0.97       334\n",
      " weighted avg       0.97      0.97      0.97       334\n",
      "\n",
      "[[75  1  0  1  0]\n",
      " [ 0 54  0  0  0]\n",
      " [ 3  0 67  0  1]\n",
      " [ 0  0  0 71  0]\n",
      " [ 2  0  0  1 58]]\n"
     ]
    },
    {
     "data": {
      "text/plain": [
       "<sklearn.metrics._plot.confusion_matrix.ConfusionMatrixDisplay at 0x1c75dd59790>"
      ]
     },
     "execution_count": 76,
     "metadata": {},
     "output_type": "execute_result"
    },
    {
     "data": {
      "image/png": "[encoded data removed]",
      "text/plain": [
       "<Figure size 800x800 with 2 Axes>"
      ]
     },
     "metadata": {},
     "output_type": "display_data"
    }
   ],
   "source": [
    "# confusion matrix and classification report(precision, recall, F1-score)\n",
    "\n",
    "ytest = np.array(Y_test)\n",
    "print(classification_report(ytest, model.predict(X_test)))\n",
    "print(confusion_matrix(ytest, model.predict(X_test)))\n",
    "\n",
    "from sklearn.metrics import ConfusionMatrixDisplay\n",
    "cm = confusion_matrix(ytest, model.predict(X_test))\n",
    "\n",
    "# Change figure size and increase dpi for better resolution\n",
    "# and get reference to axes object\n",
    "fig, ax = plt.subplots(figsize=(8,8), dpi=100)\n",
    "class_names = ['business','entertainment','politics','sport','tech']\n",
    "\n",
    "# initialize using the raw 2D confusion matrix\n",
    "# and output labels (in our case, it's 0 and 1)\n",
    "display = ConfusionMatrixDisplay(cm, display_labels=class_names)\n",
    "\n",
    "# set the plot title using the axes object\n",
    "ax.set(title='Confusion Matrix for Text Classification')\n",
    "\n",
    "# show the plot.\n",
    "# Pass the parameter ax to show customizations (ex. title)\n",
    "display.plot(ax=ax)"
   ]
  },
  {
   "cell_type": "code",
   "execution_count": null,
   "metadata": {},
   "outputs": [],
   "source": []
  }
 ],
 "metadata": {
  "kernelspec": {
   "display_name": "Python 3",
   "language": "python",
   "name": "python3"
  },
  "language_info": {
   "name": "python",
   "version": "3.11.5"
  }
 },
 "nbformat": 4,
 "nbformat_minor": 2
}
