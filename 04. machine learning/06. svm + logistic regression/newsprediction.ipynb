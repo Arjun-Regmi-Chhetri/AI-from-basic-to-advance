{
 "cells": [
  {
   "cell_type": "code",
   "execution_count": 168,
   "metadata": {},
   "outputs": [],
   "source": [
    "#!pip install textblob\n"
   ]
  },
  {
   "cell_type": "code",
   "execution_count": 169,
   "metadata": {},
   "outputs": [],
   "source": [
    "import pandas as pd\n",
    "import numpy as np\n",
    "import re, string\n",
    "import pkg_resources\n",
    "from textblob import TextBlob\n",
    "# from sklearn.metrics import plot_confusion_matrix\n",
    "# from sklearn.feature_extraction.text import CountVectorizer\n",
    "\n",
    "\n",
    "from sklearn.feature_extraction.text import TfidfVectorizer\n",
    "# from sklearn.feature_extraction.text import TfidfTransformer\n",
    "\n",
    "\n",
    "\n",
    "from sklearn.model_selection import train_test_split\n",
    "from sklearn.metrics import confusion_matrix, accuracy_score, classification_report\n",
    "from sklearn.pipeline import Pipeline\n",
    "from sklearn.linear_model import LogisticRegression\n",
    "\n",
    "\n",
    "from sklearn.svm import SVC,LinearSVC\n",
    "\n",
    "import seaborn as sns\n",
    "\n",
    "\n",
    "from sklearn.feature_selection import SelectKBest, chi2"
   ]
  },
  {
   "cell_type": "code",
   "execution_count": 170,
   "metadata": {},
   "outputs": [
    {
     "data": {
      "text/html": [
       "<div>\n",
       "<style scoped>\n",
       "    .dataframe tbody tr th:only-of-type {\n",
       "        vertical-align: middle;\n",
       "    }\n",
       "\n",
       "    .dataframe tbody tr th {\n",
       "        vertical-align: top;\n",
       "    }\n",
       "\n",
       "    .dataframe thead th {\n",
       "        text-align: right;\n",
       "    }\n",
       "</style>\n",
       "<table border=\"1\" class=\"dataframe\">\n",
       "  <thead>\n",
       "    <tr style=\"text-align: right;\">\n",
       "      <th></th>\n",
       "      <th>category</th>\n",
       "      <th>text</th>\n",
       "    </tr>\n",
       "  </thead>\n",
       "  <tbody>\n",
       "    <tr>\n",
       "      <th>41</th>\n",
       "      <td>sport</td>\n",
       "      <td>federer claims dubai crown world number one ro...</td>\n",
       "    </tr>\n",
       "    <tr>\n",
       "      <th>1366</th>\n",
       "      <td>tech</td>\n",
       "      <td>broadband in the uk growing fast high-speed ne...</td>\n",
       "    </tr>\n",
       "    <tr>\n",
       "      <th>1891</th>\n",
       "      <td>business</td>\n",
       "      <td>german economy rebounds germany s economy  the...</td>\n",
       "    </tr>\n",
       "    <tr>\n",
       "      <th>2012</th>\n",
       "      <td>entertainment</td>\n",
       "      <td>boogeyman takes box office lead the low-budget...</td>\n",
       "    </tr>\n",
       "    <tr>\n",
       "      <th>1745</th>\n",
       "      <td>sport</td>\n",
       "      <td>federer forced to dig deep top seed roger fede...</td>\n",
       "    </tr>\n",
       "    <tr>\n",
       "      <th>...</th>\n",
       "      <td>...</td>\n",
       "      <td>...</td>\n",
       "    </tr>\n",
       "    <tr>\n",
       "      <th>941</th>\n",
       "      <td>tech</td>\n",
       "      <td>cheaper chip for mobiles a mobile phone chip w...</td>\n",
       "    </tr>\n",
       "    <tr>\n",
       "      <th>1943</th>\n",
       "      <td>tech</td>\n",
       "      <td>apple sues to stop product leaks computer firm...</td>\n",
       "    </tr>\n",
       "    <tr>\n",
       "      <th>519</th>\n",
       "      <td>politics</td>\n",
       "      <td>no to royal succession shake-up a labour peer ...</td>\n",
       "    </tr>\n",
       "    <tr>\n",
       "      <th>698</th>\n",
       "      <td>sport</td>\n",
       "      <td>britain boosted by holmes double athletics fan...</td>\n",
       "    </tr>\n",
       "    <tr>\n",
       "      <th>127</th>\n",
       "      <td>sport</td>\n",
       "      <td>benitez deflects blame from dudek liverpool ma...</td>\n",
       "    </tr>\n",
       "  </tbody>\n",
       "</table>\n",
       "<p>1112 rows × 2 columns</p>\n",
       "</div>"
      ],
      "text/plain": [
       "           category                                               text\n",
       "41            sport  federer claims dubai crown world number one ro...\n",
       "1366           tech  broadband in the uk growing fast high-speed ne...\n",
       "1891       business  german economy rebounds germany s economy  the...\n",
       "2012  entertainment  boogeyman takes box office lead the low-budget...\n",
       "1745          sport  federer forced to dig deep top seed roger fede...\n",
       "...             ...                                                ...\n",
       "941            tech  cheaper chip for mobiles a mobile phone chip w...\n",
       "1943           tech  apple sues to stop product leaks computer firm...\n",
       "519        politics  no to royal succession shake-up a labour peer ...\n",
       "698           sport  britain boosted by holmes double athletics fan...\n",
       "127           sport  benitez deflects blame from dudek liverpool ma...\n",
       "\n",
       "[1112 rows x 2 columns]"
      ]
     },
     "execution_count": 170,
     "metadata": {},
     "output_type": "execute_result"
    }
   ],
   "source": [
    "df = pd.read_csv('../bbc_text.csv')\n",
    "df = df.sample(frac=0.5).iloc[0:2000]\n",
    "df"
   ]
  },
  {
   "cell_type": "code",
   "execution_count": 171,
   "metadata": {},
   "outputs": [
    {
     "name": "stderr",
     "output_type": "stream",
     "text": [
      "[nltk_data] Downloading package stopwords to\n",
      "[nltk_data]     C:\\Users\\arjun\\AppData\\Roaming\\nltk_data...\n",
      "[nltk_data]   Package stopwords is already up-to-date!\n"
     ]
    }
   ],
   "source": [
    "import nltk\n",
    "nltk.download('stopwords')\n",
    "from nltk.corpus import stopwords\n",
    "\n",
    "words = stopwords.words('english')\n",
    "\n",
    "\n",
    "def message_cleaning(message):\n",
    "    punc_removed = [char for char in message if char not in string.punctuation]\n",
    "    punc_removed_join = \" \".join(punc_removed).split(' ')\n",
    "    punc_clean = [word for word in punc_removed_join if word not in words]\n",
    "    return punc_clean\n",
    "\n",
    "\n",
    "tfidf_vectorizer = TfidfVectorizer(min_df= 3, stop_words=\"english\", norm='l2')"
   ]
  },
  {
   "cell_type": "code",
   "execution_count": 197,
   "metadata": {},
   "outputs": [
    {
     "name": "stdout",
     "output_type": "stream",
     "text": [
      "41              sport\n",
      "1366             tech\n",
      "1891         business\n",
      "2012    entertainment\n",
      "1745            sport\n",
      "            ...      \n",
      "941              tech\n",
      "1943             tech\n",
      "519          politics\n",
      "698             sport\n",
      "127             sport\n",
      "Name: category, Length: 1112, dtype: object\n",
      "1112\n"
     ]
    }
   ],
   "source": [
    "x = df['category']\n",
    "print(x)\n",
    "\n",
    "print(len(x))"
   ]
  },
  {
   "cell_type": "code",
   "execution_count": 172,
   "metadata": {},
   "outputs": [],
   "source": [
    "x = df['text']\n",
    "y = df['category']\n",
    "\n",
    "\n",
    "x_train, x_test, y_train, y_test = train_test_split(x, y, test_size=0.30, random_state=101)"
   ]
  },
  {
   "cell_type": "code",
   "execution_count": 173,
   "metadata": {},
   "outputs": [],
   "source": [
    "LR= LogisticRegression()\n",
    "svc = SVC()\n"
   ]
  },
  {
   "cell_type": "code",
   "execution_count": 174,
   "metadata": {},
   "outputs": [],
   "source": [
    "#creating pipeline for logistic regression\n",
    "\n",
    "LRpipepline1 = Pipeline([\n",
    "    ('vect', tfidf_vectorizer),\n",
    "    ('chi', SelectKBest(chi2, k = 6000)),\n",
    "    ('clf', LogisticRegression(random_state=0))\n",
    "])\n",
    "\n",
    "model1 = Lpipepline1.fit(x_train,  y_train)"
   ]
  },
  {
   "cell_type": "code",
   "execution_count": 175,
   "metadata": {},
   "outputs": [
    {
     "name": "stderr",
     "output_type": "stream",
     "text": [
      "C:\\Users\\arjun\\AppData\\Roaming\\Python\\Python311\\site-packages\\sklearn\\svm\\_classes.py:31: FutureWarning: The default value of `dual` will change from `True` to `'auto'` in 1.5. Set the value of `dual` explicitly to suppress the warning.\n",
      "  warnings.warn(\n",
      "C:\\Users\\arjun\\AppData\\Roaming\\Python\\Python311\\site-packages\\sklearn\\svm\\_base.py:1237: ConvergenceWarning: Liblinear failed to converge, increase the number of iterations.\n",
      "  warnings.warn(\n"
     ]
    }
   ],
   "source": [
    "#creating pipeline for svc\n",
    "from sklearn.feature_extraction.text import TfidfTransformer\n",
    "svcpipeline = Pipeline([\n",
    "    ('bow', tfidf_vectorizer),\n",
    "    ('tfidf', TfidfTransformer()),\n",
    "    ('classifier', LinearSVC(C = 6000))\n",
    "])\n",
    "\n",
    "model2 = svcpipeline.fit(x_train, y_train)"
   ]
  },
  {
   "cell_type": "code",
   "execution_count": 176,
   "metadata": {},
   "outputs": [],
   "source": [
    "predict1 = model1.predict(x_test)\n",
    "predict2 = model2.predict(x_test)"
   ]
  },
  {
   "cell_type": "code",
   "execution_count": 177,
   "metadata": {},
   "outputs": [
    {
     "name": "stdout",
     "output_type": "stream",
     "text": [
      "0.9491017964071856\n",
      "0.9580838323353293\n"
     ]
    }
   ],
   "source": [
    "print(accuracy_score(y_test, predict1))\n",
    "print(accuracy_score(y_test, predict2))"
   ]
  },
  {
   "cell_type": "code",
   "execution_count": 178,
   "metadata": {},
   "outputs": [],
   "source": [
    "ytest = np.array(y_test)"
   ]
  },
  {
   "cell_type": "code",
   "execution_count": 179,
   "metadata": {},
   "outputs": [
    {
     "name": "stdout",
     "output_type": "stream",
     "text": [
      "Mean Absolute Error for predict1: 0.09880239520958084\n",
      "Mean Absolute Error for predict2: 0.08682634730538923\n"
     ]
    }
   ],
   "source": [
    "from sklearn.metrics import mean_absolute_error\n",
    "\n",
    "# Convert class labels to numerical values for y_test, predict1, and predict2\n",
    "label_encoder = LabelEncoder()\n",
    "y_test_numeric = label_encoder.fit_transform(y_test)\n",
    "predict1_numeric = label_encoder.transform(predict1)\n",
    "predict2_numeric = label_encoder.transform(predict2)\n",
    "\n",
    "# Calculate mean absolute error for predict1 and predict2\n",
    "mae1 = mean_absolute_error(y_test_numeric, predict1_numeric)\n",
    "mae2 = mean_absolute_error(y_test_numeric, predict2_numeric)\n",
    "\n",
    "print(\"Mean Absolute Error for predict1:\", mae1)\n",
    "print(\"Mean Absolute Error for predict2:\", mae2)\n"
   ]
  },
  {
   "cell_type": "code",
   "execution_count": 180,
   "metadata": {},
   "outputs": [
    {
     "name": "stdout",
     "output_type": "stream",
     "text": [
      "               precision    recall  f1-score   support\n",
      "\n",
      "     business       0.92      0.95      0.93        82\n",
      "entertainment       0.98      0.95      0.96        57\n",
      "     politics       0.95      0.87      0.91        69\n",
      "        sport       0.96      1.00      0.98        73\n",
      "         tech       0.95      0.98      0.96        53\n",
      "\n",
      "     accuracy                           0.95       334\n",
      "    macro avg       0.95      0.95      0.95       334\n",
      " weighted avg       0.95      0.95      0.95       334\n",
      "\n"
     ]
    },
    {
     "data": {
      "text/plain": [
       "<Axes: >"
      ]
     },
     "execution_count": 180,
     "metadata": {},
     "output_type": "execute_result"
    },
    {
     "data": {
      "image/png": "[encoded data removed]",
      "text/plain": [
       "<Figure size 640x480 with 2 Axes>"
      ]
     },
     "metadata": {},
     "output_type": "display_data"
    }
   ],
   "source": [
    "#confusion matrix for LogisticRegression\n",
    "\n",
    "class_label = ['business', 'entertainment','politics','sport','tech']\n",
    "\n",
    "print(classification_report(ytest, predict1))\n",
    "\n",
    "cm = confusion_matrix(ytest,predict1)\n",
    "# visualize confusion matrix with seaborn heatmap\n",
    "\n",
    "cm_matrix = pd.DataFrame(data=cm, columns=class_label,\n",
    "                                 index=class_label)\n",
    "\n",
    "sns.heatmap(cm_matrix, annot=True, fmt='d', cmap='YlGnBu')"
   ]
  },
  {
   "cell_type": "code",
   "execution_count": 181,
   "metadata": {},
   "outputs": [
    {
     "name": "stdout",
     "output_type": "stream",
     "text": [
      "               precision    recall  f1-score   support\n",
      "\n",
      "     business       0.95      0.96      0.96        82\n",
      "entertainment       0.95      0.96      0.96        57\n",
      "     politics       0.97      0.90      0.93        69\n",
      "        sport       0.97      1.00      0.99        73\n",
      "         tech       0.94      0.96      0.95        53\n",
      "\n",
      "     accuracy                           0.96       334\n",
      "    macro avg       0.96      0.96      0.96       334\n",
      " weighted avg       0.96      0.96      0.96       334\n",
      "\n"
     ]
    },
    {
     "data": {
      "text/plain": [
       "<Axes: >"
      ]
     },
     "execution_count": 181,
     "metadata": {},
     "output_type": "execute_result"
    },
    {
     "data": {
      "image/png": "[encoded data removed]",
      "text/plain": [
       "<Figure size 640x480 with 2 Axes>"
      ]
     },
     "metadata": {},
     "output_type": "display_data"
    }
   ],
   "source": [
    "print(classification_report(ytest, predict2))\n",
    "cm = confusion_matrix(ytest, predict2)\n",
    "\n",
    "cm_matrix = pd.DataFrame(data = cm, index = class_label, columns=class_label)\n",
    "sns.heatmap(cm_matrix, annot=True, cmap='YlGnBu', fmt='d')"
   ]
  },
  {
   "cell_type": "code",
   "execution_count": 190,
   "metadata": {},
   "outputs": [
    {
     "data": {
      "text/html": [
       "<div>\n",
       "<style scoped>\n",
       "    .dataframe tbody tr th:only-of-type {\n",
       "        vertical-align: middle;\n",
       "    }\n",
       "\n",
       "    .dataframe tbody tr th {\n",
       "        vertical-align: top;\n",
       "    }\n",
       "\n",
       "    .dataframe thead th {\n",
       "        text-align: right;\n",
       "    }\n",
       "</style>\n",
       "<table border=\"1\" class=\"dataframe\">\n",
       "  <thead>\n",
       "    <tr style=\"text-align: right;\">\n",
       "      <th></th>\n",
       "      <th>predict_news</th>\n",
       "    </tr>\n",
       "  </thead>\n",
       "  <tbody>\n",
       "    <tr>\n",
       "      <th>0</th>\n",
       "      <td>adf</td>\n",
       "    </tr>\n",
       "  </tbody>\n",
       "</table>\n",
       "</div>"
      ],
      "text/plain": [
       "  predict_news\n",
       "0          adf"
      ]
     },
     "execution_count": 190,
     "metadata": {},
     "output_type": "execute_result"
    }
   ],
   "source": [
    "news = input(\"Enter a news : \")\n",
    "\n",
    "news_data = {'predict_news': [news]}\n",
    "\n",
    "news_df = pd.DataFrame(news_data)\n",
    "\n",
    "news_df"
   ]
  },
  {
   "cell_type": "code",
   "execution_count": 192,
   "metadata": {},
   "outputs": [
    {
     "data": {
      "text/plain": [
       "array(['sport'], dtype=object)"
      ]
     },
     "execution_count": 192,
     "metadata": {},
     "output_type": "execute_result"
    }
   ],
   "source": [
    "# extract category\n",
    "\n",
    "\n",
    "# model 1 logistic regression\n",
    "\n",
    "news_cat = model1.predict(news_df['predict_news'])\n",
    "print(\"Category = \", news_cat)"
   ]
  },
  {
   "cell_type": "code",
   "execution_count": 193,
   "metadata": {},
   "outputs": [
    {
     "data": {
      "text/plain": [
       "array(['sport'], dtype=object)"
      ]
     },
     "execution_count": 193,
     "metadata": {},
     "output_type": "execute_result"
    }
   ],
   "source": [
    "# model 2 svc\n",
    "\n",
    "news_cat = model2.predict(news_df['predict_news'])\n",
    "print(\"Category = \", news_cat)"
   ]
  },
  {
   "cell_type": "code",
   "execution_count": null,
   "metadata": {},
   "outputs": [],
   "source": []
  }
 ],
 "metadata": {
  "kernelspec": {
   "display_name": "Python 3",
   "language": "python",
   "name": "python3"
  },
  "language_info": {
   "codemirror_mode": {
    "name": "ipython",
    "version": 3
   },
   "file_extension": ".py",
   "mimetype": "text/x-python",
   "name": "python",
   "nbconvert_exporter": "python",
   "pygments_lexer": "ipython3",
   "version": "3.11.5"
  }
 },
 "nbformat": 4,
 "nbformat_minor": 2
}
